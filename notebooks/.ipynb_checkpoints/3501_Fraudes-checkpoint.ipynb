{
 "cells": [
  {
   "cell_type": "markdown",
   "id": "c3fd271b-d4b9-4c9c-b461-1e364bb018ef",
   "metadata": {},
   "source": [
    "# Regresión Logística Detección de FRAUDES\n",
    "\n",
    "En este ejercicio se muestran los elementos de la regresión logística planteando uno de los primeros problemas que fueron solucionados mediante uso de técnicas de Machine Learning: La Detección de FRAUDES.\n",
    "\n"
   ]
  },
  {
   "cell_type": "markdown",
   "id": "633ae3ea",
   "metadata": {},
   "source": [
    "# Carga de Datos."
   ]
  },
  {
   "cell_type": "markdown",
   "id": "b8d66712",
   "metadata": {},
   "source": [
    "#### Funciones auxiliares para el procesamiento del DataSet"
   ]
  },
  {
   "cell_type": "code",
   "execution_count": 16,
   "id": "a450e42f-e524-4c95-8e1f-56d0af6a68ad",
   "metadata": {},
   "outputs": [],
   "source": [
    "# Importar las librerías necesarias\n",
    "import pandas as pd\n",
    "import numpy as np\n",
    "import matplotlib.pyplot as plt\n",
    "import seaborn as sns\n",
    "import joblib\n",
    "from sklearn.model_selection import train_test_split\n",
    "from sklearn.linear_model import LogisticRegression\n",
    "from sklearn.metrics import classification_report, confusion_matrix, accuracy_score"
   ]
  },
  {
   "cell_type": "code",
   "execution_count": 4,
   "id": "6fb78814-bb22-4bc7-adfc-5dbcdb2b1bc3",
   "metadata": {},
   "outputs": [],
   "source": [
    "# Cargar el dataset\n",
    "data = pd.read_csv(\"datasets/fraude/creditcard.csv\")"
   ]
  },
  {
   "cell_type": "markdown",
   "id": "37f80711-a704-4e5d-8ae0-5db7f90663e2",
   "metadata": {},
   "source": [
    "##### Parsing del correo electronico"
   ]
  },
  {
   "cell_type": "code",
   "execution_count": 5,
   "id": "9dc2e7b0-c3e6-4468-b9f9-e223eddb23dd",
   "metadata": {},
   "outputs": [
    {
     "name": "stdout",
     "output_type": "stream",
     "text": [
      "Dimensiones del dataset: (284807, 31)\n",
      "   Time        V1        V2        V3        V4        V5        V6        V7  \\\n",
      "0   0.0 -1.359807 -0.072781  2.536347  1.378155 -0.338321  0.462388  0.239599   \n",
      "1   0.0  1.191857  0.266151  0.166480  0.448154  0.060018 -0.082361 -0.078803   \n",
      "2   1.0 -1.358354 -1.340163  1.773209  0.379780 -0.503198  1.800499  0.791461   \n",
      "3   1.0 -0.966272 -0.185226  1.792993 -0.863291 -0.010309  1.247203  0.237609   \n",
      "4   2.0 -1.158233  0.877737  1.548718  0.403034 -0.407193  0.095921  0.592941   \n",
      "\n",
      "         V8        V9  ...       V21       V22       V23       V24       V25  \\\n",
      "0  0.098698  0.363787  ... -0.018307  0.277838 -0.110474  0.066928  0.128539   \n",
      "1  0.085102 -0.255425  ... -0.225775 -0.638672  0.101288 -0.339846  0.167170   \n",
      "2  0.247676 -1.514654  ...  0.247998  0.771679  0.909412 -0.689281 -0.327642   \n",
      "3  0.377436 -1.387024  ... -0.108300  0.005274 -0.190321 -1.175575  0.647376   \n",
      "4 -0.270533  0.817739  ... -0.009431  0.798278 -0.137458  0.141267 -0.206010   \n",
      "\n",
      "        V26       V27       V28  Amount  Class  \n",
      "0 -0.189115  0.133558 -0.021053  149.62      0  \n",
      "1  0.125895 -0.008983  0.014724    2.69      0  \n",
      "2 -0.139097 -0.055353 -0.059752  378.66      0  \n",
      "3 -0.221929  0.062723  0.061458  123.50      0  \n",
      "4  0.502292  0.219422  0.215153   69.99      0  \n",
      "\n",
      "[5 rows x 31 columns]\n"
     ]
    }
   ],
   "source": [
    "# Mostrar información básica del dataset\n",
    "print(\"Dimensiones del dataset:\", data.shape)\n",
    "print(data.head())"
   ]
  },
  {
   "cell_type": "markdown",
   "id": "fe9fb64a",
   "metadata": {},
   "source": [
    "# 2. Análisis Exploratorio de los Datos"
   ]
  },
  {
   "cell_type": "code",
   "execution_count": 6,
   "id": "17dc7f02",
   "metadata": {},
   "outputs": [
    {
     "name": "stdout",
     "output_type": "stream",
     "text": [
      "Valores nulos en el dataset:\n",
      " Time      0\n",
      "V1        0\n",
      "V2        0\n",
      "V3        0\n",
      "V4        0\n",
      "V5        0\n",
      "V6        0\n",
      "V7        0\n",
      "V8        0\n",
      "V9        0\n",
      "V10       0\n",
      "V11       0\n",
      "V12       0\n",
      "V13       0\n",
      "V14       0\n",
      "V15       0\n",
      "V16       0\n",
      "V17       0\n",
      "V18       0\n",
      "V19       0\n",
      "V20       0\n",
      "V21       0\n",
      "V22       0\n",
      "V23       0\n",
      "V24       0\n",
      "V25       0\n",
      "V26       0\n",
      "V27       0\n",
      "V28       0\n",
      "Amount    0\n",
      "Class     0\n",
      "dtype: int64\n"
     ]
    }
   ],
   "source": [
    "# Verificar valores nulos\n",
    "print(\"Valores nulos en el dataset:\\n\", data.isnull().sum())"
   ]
  },
  {
   "cell_type": "code",
   "execution_count": 7,
   "id": "ca497e64",
   "metadata": {},
   "outputs": [
    {
     "data": {
      "image/png": "[encoded data removed]",
      "text/plain": [
       "<Figure size 432x288 with 1 Axes>"
      ]
     },
     "metadata": {
      "needs_background": "light"
     },
     "output_type": "display_data"
    }
   ],
   "source": [
    "# Ver distribución de las clases (Fraude vs. No Fraude)\n",
    "class_counts = data['Class'].value_counts()\n",
    "sns.barplot(x=class_counts.index, y=class_counts.values, palette=\"viridis\")\n",
    "plt.title(\"Distribución de las Clases\")\n",
    "plt.xlabel(\"Clase (0: No Fraude, 1: Fraude)\")\n",
    "plt.ylabel(\"Cantidad\")\n",
    "plt.show()"
   ]
  },
  {
   "cell_type": "markdown",
   "id": "ac2f0e11",
   "metadata": {},
   "source": [
    "# 3. Preparación de los Datos"
   ]
  },
  {
   "cell_type": "code",
   "execution_count": 8,
   "id": "bf3f3bfb",
   "metadata": {},
   "outputs": [],
   "source": [
    "# Separar las características y la variable objetivo\n",
    "X = data.drop(columns=['Class'])\n",
    "y = data['Class']"
   ]
  },
  {
   "cell_type": "markdown",
   "id": "205f88c0",
   "metadata": {},
   "source": []
  },
  {
   "cell_type": "code",
   "execution_count": 9,
   "id": "af4555e3",
   "metadata": {},
   "outputs": [],
   "source": [
    "# Dividir el dataset en conjuntos de entrenamiento y prueba\n",
    "X_train, X_test, y_train, y_test = train_test_split(X, y, test_size=0.3, random_state=42, stratify=y)"
   ]
  },
  {
   "cell_type": "code",
   "execution_count": 10,
   "id": "c4551207",
   "metadata": {},
   "outputs": [
    {
     "name": "stdout",
     "output_type": "stream",
     "text": [
      "Tamaño de X_train: (199364, 30)\n",
      "Tamaño de y_train: (199364,)\n"
     ]
    }
   ],
   "source": [
    "# Verificar las dimensiones de los conjuntos\n",
    "print(\"Tamaño de X_train:\", X_train.shape)\n",
    "print(\"Tamaño de y_train:\", y_train.shape)"
   ]
  },
  {
   "cell_type": "markdown",
   "id": "80a57ae7",
   "metadata": {},
   "source": [
    "# 4. Entrenamiento del Modelo"
   ]
  },
  {
   "cell_type": "code",
   "execution_count": 42,
   "id": "faff94e5",
   "metadata": {},
   "outputs": [
    {
     "data": {
      "text/plain": [
       "LogisticRegression(max_iter=50000, solver='liblinear')"
      ]
     },
     "execution_count": 42,
     "metadata": {},
     "output_type": "execute_result"
    }
   ],
   "source": [
    "# Crear y entrenar el modelo de regresión logística\n",
    "model = LogisticRegression(max_iter=1000, solver='liblinear')\n",
    "model.fit(X_train, y_train)\n"
   ]
  },
  {
   "cell_type": "code",
   "execution_count": 43,
   "id": "cfd9134f",
   "metadata": {},
   "outputs": [
    {
     "name": "stdout",
     "output_type": "stream",
     "text": [
      "Coeficientes del modelo: [[-9.11795027e-05  1.83858515e-01 -3.58994873e-01 -8.50737724e-01\n",
      "   1.68730027e-01 -4.21288333e-02 -8.36185390e-02  6.17742837e-02\n",
      "  -1.48588219e-01 -4.00002287e-01 -2.49689418e-01 -1.48920520e-01\n",
      "  -6.14059941e-02 -2.80980554e-01 -7.82794767e-01 -2.57412751e-01\n",
      "  -2.99998953e-01 -5.16098936e-01 -2.53382539e-02  3.94488749e-02\n",
      "   5.22161330e-02  1.73599747e-01  2.15977729e-01  3.85426474e-02\n",
      "  -3.22239407e-02 -1.89111203e-01  3.40731361e-02 -5.51758602e-02\n",
      "   4.52826571e-02 -6.60763314e-03]]\n"
     ]
    }
   ],
   "source": [
    "# Ver coeficientes\n",
    "print(\"Coeficientes del modelo:\", model.coef_)"
   ]
  },
  {
   "cell_type": "markdown",
   "id": "604fe692",
   "metadata": {},
   "source": [
    "# 5. Evaluación del Modelo\n"
   ]
  },
  {
   "cell_type": "code",
   "execution_count": 44,
   "id": "aff673ab",
   "metadata": {},
   "outputs": [],
   "source": [
    "# Predicciones en el conjunto de prueba\n",
    "y_pred = model.predict(X_test)"
   ]
  },
  {
   "cell_type": "code",
   "execution_count": 15,
   "id": "2692bd25",
   "metadata": {},
   "outputs": [
    {
     "name": "stdout",
     "output_type": "stream",
     "text": [
      "Reporte de clasificación:\n",
      "               precision    recall  f1-score   support\n",
      "\n",
      "           0       1.00      1.00      1.00     85295\n",
      "           1       0.74      0.65      0.69       148\n",
      "\n",
      "    accuracy                           1.00     85443\n",
      "   macro avg       0.87      0.82      0.85     85443\n",
      "weighted avg       1.00      1.00      1.00     85443\n",
      "\n",
      "Matriz de confusión:\n",
      " [[85261    34]\n",
      " [   52    96]]\n",
      "Acuuracy: 0.9989934810341398\n"
     ]
    }
   ],
   "source": [
    "# Evaluar el modelo\n",
    "print(\"Reporte de clasificación:\\n\", classification_report(y_test, y_pred))\n",
    "print(\"Matriz de confusión:\\n\", confusion_matrix(y_test, y_pred))\n",
    "print(\"Acuuracy:\", accuracy_score(y_test, y_pred))"
   ]
  },
  {
   "cell_type": "markdown",
   "id": "c0a601cd",
   "metadata": {},
   "source": [
    "# 6. Visualización de Resultados\n"
   ]
  },
  {
   "cell_type": "code",
   "execution_count": 46,
   "id": "f1d012a5",
   "metadata": {
    "scrolled": true
   },
   "outputs": [
    {
     "data": {
      "image/png": "[encoded data removed]",
      "text/plain": [
       "<Figure size 432x288 with 2 Axes>"
      ]
     },
     "metadata": {
      "needs_background": "light"
     },
     "output_type": "display_data"
    }
   ],
   "source": [
    "# Matriz de confusión como heatmap\n",
    "conf_matrix = confusion_matrix(y_test, y_pred)\n",
    "sns.heatmap(conf_matrix, annot=True, fmt=\"d\", cmap=\"Blues\")\n",
    "plt.title(\"Matriz de Confusión\")\n",
    "plt.xlabel(\"Predicción\")\n",
    "plt.ylabel(\"Verdadero\")\n",
    "plt.show()"
   ]
  },
  {
   "cell_type": "markdown",
   "id": "8e1d7057",
   "metadata": {},
   "source": [
    "# 7.- Guardar el modelo"
   ]
  },
  {
   "cell_type": "code",
   "execution_count": 47,
   "id": "0724ca4c",
   "metadata": {},
   "outputs": [
    {
     "name": "stdout",
     "output_type": "stream",
     "text": [
      "Modelo guardado como 'logistic_regression_fraud.pkl'\n"
     ]
    }
   ],
   "source": [
    "# Guardar el modelo\n",
    "joblib.dump(model, \"logistic_regression_fraud.pkl\")\n",
    "print(\"Modelo guardado como 'logistic_regression_fraud.pkl'\")"
   ]
  },
  {
   "cell_type": "code",
   "execution_count": 16,
   "id": "981e05b4",
   "metadata": {},
   "outputs": [
    {
     "name": "stdout",
     "output_type": "stream",
     "text": [
      "Reporte de clasificación:\n",
      "               precision    recall  f1-score   support\n",
      "\n",
      "           0       1.00      1.00      1.00     85295\n",
      "           1       0.74      0.65      0.69       148\n",
      "\n",
      "    accuracy                           1.00     85443\n",
      "   macro avg       0.87      0.82      0.85     85443\n",
      "weighted avg       1.00      1.00      1.00     85443\n",
      "\n",
      "Matriz de confusión:\n",
      " [[85261    34]\n",
      " [   52    96]]\n",
      "Acuuracy: 0.9989934810341398\n"
     ]
    }
   ],
   "source": [
    "# Evaluar el modelo\n",
    "print(\"Reporte de clasificación:\\n\", classification_report(y_test, y_pred))\n",
    "print(\"Matriz de confusión:\\n\", confusion_matrix(y_test, y_pred))\n",
    "print(\"Acuuracy:\", accuracy_score(y_test, y_pred))"
   ]
  },
  {
   "cell_type": "code",
   "execution_count": null,
   "id": "615cc6e9",
   "metadata": {},
   "outputs": [],
   "source": []
  }
 ],
 "metadata": {
  "kernelspec": {
   "display_name": "Python 3 (ipykernel)",
   "language": "python",
   "name": "python3"
  },
  "language_info": {
   "codemirror_mode": {
    "name": "ipython",
    "version": 3
   },
   "file_extension": ".py",
   "mimetype": "text/x-python",
   "name": "python",
   "nbconvert_exporter": "python",
   "pygments_lexer": "ipython3",
   "version": "3.9.7"
  }
 },
 "nbformat": 4,
 "nbformat_minor": 5
}
